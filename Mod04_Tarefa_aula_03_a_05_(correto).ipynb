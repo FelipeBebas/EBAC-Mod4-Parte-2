{
 "cells": [
  {
   "cell_type": "markdown",
   "metadata": {
    "id": "njUvbhQmC8-t"
   },
   "source": [
    "## Exercício 1: Vestibular\n",
    "\n",
    "Considere que a os dados gerados na célula abaixo contêm o número de acertos de 100 alunos em um vestibular para um curso de exatas, divididas pelos respectivos assuntos. Considere que cada assunto possui um número de questões conforme a tabela abaixo:\n",
    "\n",
    "| assunto | número de questões |\n",
    "|:---:|:---:|\n",
    "| Matemática | 24 |\n",
    "| Português | 18 |\n",
    "| Geografia | 8 |\n",
    "| Inglês | 8 |\n",
    "| História | 8 |\n",
    "| Física | 12 |\n",
    "| Química | 12 |\n",
    "\n",
    "Usando os comandos de operações com DataFrames que você aprendeu na Aula 03, calcule:\n",
    "\n",
    "1. (operações com escalar) Calcule o percentual de acerto dos alunos por assunto.  \n",
    "2. (operações entre *DataFrames) Calcule o total de acertos de cada aluno.  \n",
    "3. Calcule o porcentual geral de cada aluno.  \n",
    "4. Suponha que a nota de corte para a segunda fase seja 45. Quantos alunos tiveram nota maior que 45?  "
   ]
  },
  {
   "cell_type": "code",
   "execution_count": 2,
   "metadata": {
    "id": "Ll6TadxCC8-y"
   },
   "outputs": [],
   "source": [
    "import pandas as pd\n",
    "import numpy as np\n",
    "\n",
    "np.random.seed(42)\n",
    "df_mat = pd.DataFrame(np.random.randint(24, size=(100, 1)), columns=['Qt_acertos'])\n",
    "\n",
    "df_por = pd.DataFrame(np.random.randint(18, size=(100, 1)), columns=['Qt_acertos'])\n",
    "\n",
    "df_geo = pd.DataFrame(np.random.randint(8, size=(100, 1)), columns=['Qt_acertos'])\n",
    "\n",
    "df_ing = pd.DataFrame(np.random.randint(8, size=(100, 1)), columns=['Qt_acertos'])\n",
    "\n",
    "df_his = pd.DataFrame(np.random.randint(8, size=(100, 1)), columns=['Qt_acertos'])\n",
    "\n",
    "df_fis = pd.DataFrame(np.random.randint(12, size=(100, 1)), columns=['Qt_acertos'])\n",
    "\n",
    "df_qui = pd.DataFrame(np.random.randint(12, size=(100, 1)), columns=['Qt_acertos'])"
   ]
  },
  {
   "cell_type": "code",
   "execution_count": 45,
   "metadata": {},
   "outputs": [
    {
     "data": {
      "text/plain": [
       "array([ 6, 19, 14, 10,  7, 20, 18, 22, 23,  3,  2, 21,  1, 11,  5,  0, 16,\n",
       "        9, 15,  4,  8, 17, 13, 12])"
      ]
     },
     "execution_count": 45,
     "metadata": {},
     "output_type": "execute_result"
    }
   ],
   "source": [
    "df_mat['Qt_acertos'].unique() #verificando os valores do data frame df_mat"
   ]
  },
  {
   "cell_type": "code",
   "execution_count": 53,
   "metadata": {
    "id": "JVmLXiC2C8-0"
   },
   "outputs": [],
   "source": [
    "# 1) Seu código aqui\n",
    "# (operações com escalar) Calcule o percentual de acerto dos alunos por assunto.\n",
    "\n",
    "pcA_df_mat = df_mat/24\n",
    "pcA_df_por = df_por/18\n",
    "pcA_df_geo = df_geo/8\n",
    "pcA_df_ing = df_ing/8\n",
    "pcA_df_his = df_his/8\n",
    "pcA_df_fis = df_fis/12\n",
    "pcA_df_qui = df_qui/12\n",
    "\n"
   ]
  },
  {
   "cell_type": "code",
   "execution_count": 58,
   "metadata": {
    "id": "JbTwCyNHC8-1"
   },
   "outputs": [
    {
     "data": {
      "text/html": [
       "<div>\n",
       "<style scoped>\n",
       "    .dataframe tbody tr th:only-of-type {\n",
       "        vertical-align: middle;\n",
       "    }\n",
       "\n",
       "    .dataframe tbody tr th {\n",
       "        vertical-align: top;\n",
       "    }\n",
       "\n",
       "    .dataframe thead th {\n",
       "        text-align: right;\n",
       "    }\n",
       "</style>\n",
       "<table border=\"1\" class=\"dataframe\">\n",
       "  <thead>\n",
       "    <tr style=\"text-align: right;\">\n",
       "      <th></th>\n",
       "      <th>Qt_acertos</th>\n",
       "    </tr>\n",
       "  </thead>\n",
       "  <tbody>\n",
       "    <tr>\n",
       "      <th>0</th>\n",
       "      <td>35</td>\n",
       "    </tr>\n",
       "    <tr>\n",
       "      <th>1</th>\n",
       "      <td>48</td>\n",
       "    </tr>\n",
       "    <tr>\n",
       "      <th>2</th>\n",
       "      <td>50</td>\n",
       "    </tr>\n",
       "    <tr>\n",
       "      <th>3</th>\n",
       "      <td>32</td>\n",
       "    </tr>\n",
       "    <tr>\n",
       "      <th>4</th>\n",
       "      <td>30</td>\n",
       "    </tr>\n",
       "    <tr>\n",
       "      <th>...</th>\n",
       "      <td>...</td>\n",
       "    </tr>\n",
       "    <tr>\n",
       "      <th>95</th>\n",
       "      <td>34</td>\n",
       "    </tr>\n",
       "    <tr>\n",
       "      <th>96</th>\n",
       "      <td>27</td>\n",
       "    </tr>\n",
       "    <tr>\n",
       "      <th>97</th>\n",
       "      <td>40</td>\n",
       "    </tr>\n",
       "    <tr>\n",
       "      <th>98</th>\n",
       "      <td>40</td>\n",
       "    </tr>\n",
       "    <tr>\n",
       "      <th>99</th>\n",
       "      <td>42</td>\n",
       "    </tr>\n",
       "  </tbody>\n",
       "</table>\n",
       "<p>100 rows × 1 columns</p>\n",
       "</div>"
      ],
      "text/plain": [
       "    Qt_acertos\n",
       "0           35\n",
       "1           48\n",
       "2           50\n",
       "3           32\n",
       "4           30\n",
       "..         ...\n",
       "95          34\n",
       "96          27\n",
       "97          40\n",
       "98          40\n",
       "99          42\n",
       "\n",
       "[100 rows x 1 columns]"
      ]
     },
     "execution_count": 58,
     "metadata": {},
     "output_type": "execute_result"
    }
   ],
   "source": [
    "# 2) Seu código aqui\n",
    "# (operações entre *DataFrames) Calcule o total de acertos de cada aluno.\n",
    "\n",
    "total_acertos = df_mat + df_por + df_geo + df_ing + df_his  + df_fis + df_qui\n",
    "total_acertos"
   ]
  },
  {
   "cell_type": "code",
   "execution_count": 62,
   "metadata": {
    "id": "c2L8dJkVC8-3"
   },
   "outputs": [
    {
     "data": {
      "text/html": [
       "<div>\n",
       "<style scoped>\n",
       "    .dataframe tbody tr th:only-of-type {\n",
       "        vertical-align: middle;\n",
       "    }\n",
       "\n",
       "    .dataframe tbody tr th {\n",
       "        vertical-align: top;\n",
       "    }\n",
       "\n",
       "    .dataframe thead th {\n",
       "        text-align: right;\n",
       "    }\n",
       "</style>\n",
       "<table border=\"1\" class=\"dataframe\">\n",
       "  <thead>\n",
       "    <tr style=\"text-align: right;\">\n",
       "      <th></th>\n",
       "      <th>Qt_acertos</th>\n",
       "    </tr>\n",
       "  </thead>\n",
       "  <tbody>\n",
       "    <tr>\n",
       "      <th>0</th>\n",
       "      <td>0.388889</td>\n",
       "    </tr>\n",
       "    <tr>\n",
       "      <th>1</th>\n",
       "      <td>0.533333</td>\n",
       "    </tr>\n",
       "    <tr>\n",
       "      <th>2</th>\n",
       "      <td>0.555556</td>\n",
       "    </tr>\n",
       "    <tr>\n",
       "      <th>3</th>\n",
       "      <td>0.355556</td>\n",
       "    </tr>\n",
       "    <tr>\n",
       "      <th>4</th>\n",
       "      <td>0.333333</td>\n",
       "    </tr>\n",
       "    <tr>\n",
       "      <th>...</th>\n",
       "      <td>...</td>\n",
       "    </tr>\n",
       "    <tr>\n",
       "      <th>95</th>\n",
       "      <td>0.377778</td>\n",
       "    </tr>\n",
       "    <tr>\n",
       "      <th>96</th>\n",
       "      <td>0.300000</td>\n",
       "    </tr>\n",
       "    <tr>\n",
       "      <th>97</th>\n",
       "      <td>0.444444</td>\n",
       "    </tr>\n",
       "    <tr>\n",
       "      <th>98</th>\n",
       "      <td>0.444444</td>\n",
       "    </tr>\n",
       "    <tr>\n",
       "      <th>99</th>\n",
       "      <td>0.466667</td>\n",
       "    </tr>\n",
       "  </tbody>\n",
       "</table>\n",
       "<p>100 rows × 1 columns</p>\n",
       "</div>"
      ],
      "text/plain": [
       "    Qt_acertos\n",
       "0     0.388889\n",
       "1     0.533333\n",
       "2     0.555556\n",
       "3     0.355556\n",
       "4     0.333333\n",
       "..         ...\n",
       "95    0.377778\n",
       "96    0.300000\n",
       "97    0.444444\n",
       "98    0.444444\n",
       "99    0.466667\n",
       "\n",
       "[100 rows x 1 columns]"
      ]
     },
     "execution_count": 62,
     "metadata": {},
     "output_type": "execute_result"
    }
   ],
   "source": [
    "# 3) Seu código aqui\n",
    "# Calcule o porcentual geral de cada aluno.\n",
    "\n",
    "# Porcentual geral: total de acertos dividido pela quantidade de questões\n",
    "pGeral =  total_acertos / 90\n",
    "pGeral"
   ]
  },
  {
   "cell_type": "code",
   "execution_count": 88,
   "metadata": {
    "id": "PZTZ7DFzC8-3"
   },
   "outputs": [
    {
     "name": "stdout",
     "output_type": "stream",
     "text": [
      "31 Alunos estão acima da nota de corte\n"
     ]
    }
   ],
   "source": [
    "# 4) Seu código aqui\n",
    "# Suponha que a nota de corte para a segunda fase seja 45. Quantos alunos tiveram nota maior que 45?\n",
    "\n",
    "nota_corte = total_acertos['Qt_acertos'] > 45\n",
    "nota_corte_soma = nota_corte.sum() # somar todos os valores True\n",
    "\n",
    "print(nota_corte_soma, 'Alunos estão acima da nota de corte.')"
   ]
  },
  {
   "cell_type": "markdown",
   "metadata": {
    "id": "EGBUWpAHC8-5"
   },
   "source": [
    "## 3) Vacinações no Acre\n",
    "Vamos trabalhar agora com a base de vacinações no Acre. Para facilitar a sua vida, copiamos o link do arquivo na célula abaixo.\n",
    "\n",
    "1. Quantas vacinas estão registradas nessa base?  \n",
    "2. Quantos pacientes foram vacinados? (considere um paciente para cada valor único de ```paciente_id```)  \n",
    "3. Quantos pacientes únicos tomaram a primeira dose? OBS: Há um caractere especial neste campo. Receba os valores do campo com o método ```.unique()```.   \n",
    "4. Quantos pacientes com menos de 18 anos foram vacinados?  \n",
    "5. Quantos estabelecimentos aplicaram vacina no Acre?\n",
    "\n",
    "\n",
    "**OBS:** O portal do DATASUS pode apresentar instabilidades, retornando um erro na segunda célula abaixo. Por este motivo está disponível uma base estática, que se for baixada para o seu *working directory* pode ser lida com este comando: ```df = pd.read_csv('registros de vacinacao covid ACRE.csv', sep=';')```.\n",
    "\n",
    "**OBS2:** Para saber qual é o seu working directory, rode no jupyter: ```!pwd```."
   ]
  },
  {
   "cell_type": "code",
   "execution_count": null,
   "metadata": {
    "id": "ET4r139hC8-5"
   },
   "outputs": [],
   "source": [
    "#arquivo = 'https://s3.sa-east-1.amazonaws.com/ckan.saude.gov.br/SIPNI/COVID/uf/uf%3DAC/part-00000-5ed92752-6121-474f-ab37-816918134afc.c000.csv'\n",
    "\n",
    "# Obrigado ao tutor Luccas Mansur da EBAC que resolveu o problema do link quebrado"
   ]
  },
  {
   "cell_type": "code",
   "execution_count": 289,
   "metadata": {
    "id": "SC9YMWLSC8-6"
   },
   "outputs": [
    {
     "name": "stdout",
     "output_type": "stream",
     "text": [
      "Existem 386816 vacinas registradas nessa base de dados.\n"
     ]
    }
   ],
   "source": [
    "# 1) Sua solução aqui\n",
    "\n",
    "#Quantas vacinas estão registradas nessa base?\n",
    "df_vAcre = pd.read_csv('acre_dataset.csv', sep=';')\n",
    "df_numero_linhas = vacAcre.shape[0]\n",
    "\n",
    "print('Existem',df_numero_linhas,'vacinas registradas nessa base de dados.')"
   ]
  },
  {
   "cell_type": "code",
   "execution_count": 507,
   "metadata": {},
   "outputs": [
    {
     "data": {
      "text/html": [
       "<div>\n",
       "<style scoped>\n",
       "    .dataframe tbody tr th:only-of-type {\n",
       "        vertical-align: middle;\n",
       "    }\n",
       "\n",
       "    .dataframe tbody tr th {\n",
       "        vertical-align: top;\n",
       "    }\n",
       "\n",
       "    .dataframe thead th {\n",
       "        text-align: right;\n",
       "    }\n",
       "</style>\n",
       "<table border=\"1\" class=\"dataframe\">\n",
       "  <thead>\n",
       "    <tr style=\"text-align: right;\">\n",
       "      <th></th>\n",
       "      <th>document_id</th>\n",
       "      <th>paciente_id</th>\n",
       "      <th>paciente_idade</th>\n",
       "      <th>paciente_dataNascimento</th>\n",
       "      <th>paciente_enumSexoBiologico</th>\n",
       "      <th>paciente_racaCor_codigo</th>\n",
       "      <th>paciente_racaCor_valor</th>\n",
       "      <th>paciente_endereco_coIbgeMunicipio</th>\n",
       "      <th>paciente_endereco_coPais</th>\n",
       "      <th>paciente_endereco_nmMunicipio</th>\n",
       "      <th>...</th>\n",
       "      <th>vacina_categoria_codigo</th>\n",
       "      <th>vacina_categoria_nome</th>\n",
       "      <th>vacina_lote</th>\n",
       "      <th>vacina_fabricante_nome</th>\n",
       "      <th>vacina_fabricante_referencia</th>\n",
       "      <th>vacina_dataAplicacao</th>\n",
       "      <th>vacina_descricao_dose</th>\n",
       "      <th>vacina_codigo</th>\n",
       "      <th>vacina_nome</th>\n",
       "      <th>sistema_origem</th>\n",
       "    </tr>\n",
       "  </thead>\n",
       "  <tbody>\n",
       "    <tr>\n",
       "      <th>0</th>\n",
       "      <td>4ec8a639-21c6-4849-93c2-71de387841ef-i0b0</td>\n",
       "      <td>c604d719b967aa9d85a43f3bcbb2fe4f3cd8588b8b6d83...</td>\n",
       "      <td>18.0</td>\n",
       "      <td>2003-09-30</td>\n",
       "      <td>F</td>\n",
       "      <td>3.0</td>\n",
       "      <td>PARDA</td>\n",
       "      <td>120035.0</td>\n",
       "      <td>10.0</td>\n",
       "      <td>MARECHAL THAUMATURGO</td>\n",
       "      <td>...</td>\n",
       "      <td>9.0</td>\n",
       "      <td>Trabalhadores de Saúde</td>\n",
       "      <td>FF8848</td>\n",
       "      <td>PFIZER</td>\n",
       "      <td>NaN</td>\n",
       "      <td>2022-02-24</td>\n",
       "      <td>Reforço</td>\n",
       "      <td>87</td>\n",
       "      <td>COVID-19 PFIZER - COMIRNATY</td>\n",
       "      <td>ESUS APS - NACIONAL (OFFLINE)</td>\n",
       "    </tr>\n",
       "    <tr>\n",
       "      <th>1</th>\n",
       "      <td>f6a861a3-7359-42e9-ac11-e5d1a379f0c6-i0b0</td>\n",
       "      <td>36e3a5f876c2f84b2ea04419f422e201af859f1b6f294f...</td>\n",
       "      <td>52.0</td>\n",
       "      <td>1969-06-14</td>\n",
       "      <td>F</td>\n",
       "      <td>99.0</td>\n",
       "      <td>SEM INFORMACAO</td>\n",
       "      <td>120040.0</td>\n",
       "      <td>10.0</td>\n",
       "      <td>RIO BRANCO</td>\n",
       "      <td>...</td>\n",
       "      <td>1.0</td>\n",
       "      <td>Comorbidades</td>\n",
       "      <td>212J21A</td>\n",
       "      <td>JANSSEN</td>\n",
       "      <td>30587</td>\n",
       "      <td>2022-06-09</td>\n",
       "      <td>2º Reforço</td>\n",
       "      <td>88</td>\n",
       "      <td>COVID-19 JANSSEN - Ad26.COV2.S</td>\n",
       "      <td>Novo PNI</td>\n",
       "    </tr>\n",
       "    <tr>\n",
       "      <th>2</th>\n",
       "      <td>5531292c-8a0b-4cc5-a579-630994b45b41-i0b0</td>\n",
       "      <td>8374e0245a4dd58a35c87c1243f8d841e2f834e9d3526a...</td>\n",
       "      <td>40.0</td>\n",
       "      <td>1981-07-27</td>\n",
       "      <td>F</td>\n",
       "      <td>3.0</td>\n",
       "      <td>PARDA</td>\n",
       "      <td>120050.0</td>\n",
       "      <td>10.0</td>\n",
       "      <td>SENA MADUREIRA</td>\n",
       "      <td>...</td>\n",
       "      <td>8.0</td>\n",
       "      <td>Trabalhadores da Educação</td>\n",
       "      <td>219VCD288Z</td>\n",
       "      <td>ASTRAZENECA/FIOCRUZ</td>\n",
       "      <td>Organization/149</td>\n",
       "      <td>2022-03-04</td>\n",
       "      <td>Reforço</td>\n",
       "      <td>85</td>\n",
       "      <td>COVID-19 ASTRAZENECA/FIOCRUZ - COVISHIELD</td>\n",
       "      <td>Novo PNI</td>\n",
       "    </tr>\n",
       "    <tr>\n",
       "      <th>3</th>\n",
       "      <td>ec453555-ae0b-4420-b703-68be64055dc6-i0b0</td>\n",
       "      <td>856182c8ff76d90dd31344176f0da5d685cf7bdfe23b4c...</td>\n",
       "      <td>9.0</td>\n",
       "      <td>2012-07-15</td>\n",
       "      <td>M</td>\n",
       "      <td>3.0</td>\n",
       "      <td>PARDA</td>\n",
       "      <td>120040.0</td>\n",
       "      <td>10.0</td>\n",
       "      <td>RIO BRANCO</td>\n",
       "      <td>...</td>\n",
       "      <td>NaN</td>\n",
       "      <td>NaN</td>\n",
       "      <td>FP1176</td>\n",
       "      <td>Pendente Identificação</td>\n",
       "      <td>Organization/28290</td>\n",
       "      <td>2022-01-25</td>\n",
       "      <td>1ª Dose</td>\n",
       "      <td>99</td>\n",
       "      <td>COVID-19 PEDIÁTRICA - PFIZER COMIRNATY</td>\n",
       "      <td>Novo PNI</td>\n",
       "    </tr>\n",
       "    <tr>\n",
       "      <th>4</th>\n",
       "      <td>2637d96e-cb64-4cdd-9bc8-9268e6a64d07-i0b0</td>\n",
       "      <td>da9312b11eb4d04bf43aaea8d2dee206761e78e6c8e55d...</td>\n",
       "      <td>55.0</td>\n",
       "      <td>1966-04-14</td>\n",
       "      <td>M</td>\n",
       "      <td>99.0</td>\n",
       "      <td>SEM INFORMACAO</td>\n",
       "      <td>120020.0</td>\n",
       "      <td>10.0</td>\n",
       "      <td>CRUZEIRO DO SUL</td>\n",
       "      <td>...</td>\n",
       "      <td>2.0</td>\n",
       "      <td>Faixa Etária</td>\n",
       "      <td>212VCD001ZVB</td>\n",
       "      <td>ASTRAZENECA/FIOCRUZ</td>\n",
       "      <td>Organization/33781055000135</td>\n",
       "      <td>2021-06-10</td>\n",
       "      <td>1ª Dose</td>\n",
       "      <td>85</td>\n",
       "      <td>COVID-19 ASTRAZENECA/FIOCRUZ - COVISHIELD</td>\n",
       "      <td>Novo PNI</td>\n",
       "    </tr>\n",
       "  </tbody>\n",
       "</table>\n",
       "<p>5 rows × 32 columns</p>\n",
       "</div>"
      ],
      "text/plain": [
       "                                 document_id  \\\n",
       "0  4ec8a639-21c6-4849-93c2-71de387841ef-i0b0   \n",
       "1  f6a861a3-7359-42e9-ac11-e5d1a379f0c6-i0b0   \n",
       "2  5531292c-8a0b-4cc5-a579-630994b45b41-i0b0   \n",
       "3  ec453555-ae0b-4420-b703-68be64055dc6-i0b0   \n",
       "4  2637d96e-cb64-4cdd-9bc8-9268e6a64d07-i0b0   \n",
       "\n",
       "                                         paciente_id  paciente_idade  \\\n",
       "0  c604d719b967aa9d85a43f3bcbb2fe4f3cd8588b8b6d83...            18.0   \n",
       "1  36e3a5f876c2f84b2ea04419f422e201af859f1b6f294f...            52.0   \n",
       "2  8374e0245a4dd58a35c87c1243f8d841e2f834e9d3526a...            40.0   \n",
       "3  856182c8ff76d90dd31344176f0da5d685cf7bdfe23b4c...             9.0   \n",
       "4  da9312b11eb4d04bf43aaea8d2dee206761e78e6c8e55d...            55.0   \n",
       "\n",
       "  paciente_dataNascimento paciente_enumSexoBiologico  paciente_racaCor_codigo  \\\n",
       "0              2003-09-30                          F                      3.0   \n",
       "1              1969-06-14                          F                     99.0   \n",
       "2              1981-07-27                          F                      3.0   \n",
       "3              2012-07-15                          M                      3.0   \n",
       "4              1966-04-14                          M                     99.0   \n",
       "\n",
       "  paciente_racaCor_valor  paciente_endereco_coIbgeMunicipio  \\\n",
       "0                  PARDA                           120035.0   \n",
       "1         SEM INFORMACAO                           120040.0   \n",
       "2                  PARDA                           120050.0   \n",
       "3                  PARDA                           120040.0   \n",
       "4         SEM INFORMACAO                           120020.0   \n",
       "\n",
       "   paciente_endereco_coPais paciente_endereco_nmMunicipio  ...  \\\n",
       "0                      10.0          MARECHAL THAUMATURGO  ...   \n",
       "1                      10.0                    RIO BRANCO  ...   \n",
       "2                      10.0                SENA MADUREIRA  ...   \n",
       "3                      10.0                    RIO BRANCO  ...   \n",
       "4                      10.0               CRUZEIRO DO SUL  ...   \n",
       "\n",
       "  vacina_categoria_codigo      vacina_categoria_nome   vacina_lote  \\\n",
       "0                     9.0     Trabalhadores de Saúde        FF8848   \n",
       "1                     1.0               Comorbidades       212J21A   \n",
       "2                     8.0  Trabalhadores da Educação    219VCD288Z   \n",
       "3                     NaN                        NaN        FP1176   \n",
       "4                     2.0               Faixa Etária  212VCD001ZVB   \n",
       "\n",
       "   vacina_fabricante_nome  vacina_fabricante_referencia vacina_dataAplicacao  \\\n",
       "0                  PFIZER                           NaN           2022-02-24   \n",
       "1                 JANSSEN                         30587           2022-06-09   \n",
       "2     ASTRAZENECA/FIOCRUZ              Organization/149           2022-03-04   \n",
       "3  Pendente Identificação            Organization/28290           2022-01-25   \n",
       "4     ASTRAZENECA/FIOCRUZ   Organization/33781055000135           2021-06-10   \n",
       "\n",
       "  vacina_descricao_dose  vacina_codigo  \\\n",
       "0               Reforço             87   \n",
       "1            2º Reforço             88   \n",
       "2               Reforço             85   \n",
       "3               1ª Dose             99   \n",
       "4               1ª Dose             85   \n",
       "\n",
       "                                 vacina_nome                 sistema_origem  \n",
       "0                COVID-19 PFIZER - COMIRNATY  ESUS APS - NACIONAL (OFFLINE)  \n",
       "1             COVID-19 JANSSEN - Ad26.COV2.S                       Novo PNI  \n",
       "2  COVID-19 ASTRAZENECA/FIOCRUZ - COVISHIELD                       Novo PNI  \n",
       "3     COVID-19 PEDIÁTRICA - PFIZER COMIRNATY                       Novo PNI  \n",
       "4  COVID-19 ASTRAZENECA/FIOCRUZ - COVISHIELD                       Novo PNI  \n",
       "\n",
       "[5 rows x 32 columns]"
      ]
     },
     "execution_count": 507,
     "metadata": {},
     "output_type": "execute_result"
    }
   ],
   "source": [
    "df_vAcre.head(5)"
   ]
  },
  {
   "cell_type": "code",
   "execution_count": 396,
   "metadata": {
    "id": "PMztY1RlC8-7"
   },
   "outputs": [
    {
     "name": "stdout",
     "output_type": "stream",
     "text": [
      "Existem 316259 pacientes vacinados nessa base de dados.\n"
     ]
    }
   ],
   "source": [
    "# 2) #Quantos pacientes foram vacinados? (considere um paciente para cada valor único de paciente_id)\n",
    "\n",
    "df_total_vacinados = df_vAcre['paciente_id'].nunique()\n",
    "print('Existem',df_total_vacinados,'pacientes vacinados nessa base de dados.')"
   ]
  },
  {
   "cell_type": "code",
   "execution_count": 398,
   "metadata": {
    "id": "V_wr--3JC8-7"
   },
   "outputs": [
    {
     "name": "stdout",
     "output_type": "stream",
     "text": [
      "Existem 143120 pacientes vacinados com a 1ª Dose nessa base de dados.\n"
     ]
    }
   ],
   "source": [
    "# 3) #Quantos pacientes únicos tomaram a primeira dose? OBS: Há um caractere especial neste campo. Receba os valores do campo com o método .unique().\n",
    "\n",
    "#acessar a coluna [paciente_id] e localizar todas as entradas com a categoria [1ª Dose] da coluna [vacina_descricao_dose]\n",
    "df_primeira_dose = df_vAcre['paciente_id'].loc[df_vAcre['vacina_descricao_dose'] == '1ª Dose'].nunique() \n",
    "\n",
    "print('Existem',df_primeira_dose,'pacientes vacinados com a 1ª Dose nessa base de dados.')"
   ]
  },
  {
   "cell_type": "code",
   "execution_count": 412,
   "metadata": {
    "id": "SPHgIxtcC8-7"
   },
   "outputs": [
    {
     "name": "stdout",
     "output_type": "stream",
     "text": [
      "1ª Dose\n",
      "Existem 143120 pacientes vacinados com a 1ª Dose nessa base de dados.\n"
     ]
    }
   ],
   "source": [
    "# 3) solução alternativa\n",
    "\n",
    "#receber o valor da categoria [1ª Dose] da coluna [vacina_descricao_dose], buscar por esse valor na variável e contar quantas vezes ele aparece\n",
    "categoria_primeira_dose = df_vAcre['vacina_descricao_dose'].unique()[2]\n",
    "print(categoria_primeira_dose)\n",
    "\n",
    "#acessar a coluna [vacina_descricao_dose] e comparar com a variável. É uma forma redundante de resolver o problema, mas é alternativa a primeira solução\n",
    "alt_primeira_dose = df_vAcre[df_vAcre['vacina_descricao_dose'] == categoria_primeira_dose]\n",
    "df_alt_primeira_dose = alt_primeira_dose['paciente_id'].nunique()\n",
    "print('Existem',df_alt_primeira_dose,'pacientes vacinados com a 1ª Dose nessa base de dados.')"
   ]
  },
  {
   "cell_type": "code",
   "execution_count": 414,
   "metadata": {
    "id": "S6ab9ExEC8-7"
   },
   "outputs": [
    {
     "name": "stdout",
     "output_type": "stream",
     "text": [
      "Existem 316259 pacientes com menos de 18 anos nessa base de dados.\n"
     ]
    }
   ],
   "source": [
    "# 4) #Quantos pacientes com menos de 18 anos foram vacinados?\n",
    "\n",
    "menor_idade = df_vAcre['paciente_idade'] < 18\n",
    "df_menor_idade = df_vAcre['paciente_id'].nunique()\n",
    "\n",
    "print('Existem',df_menor_idade,'pacientes com menos de 18 anos nessa base de dados.')"
   ]
  },
  {
   "cell_type": "code",
   "execution_count": 441,
   "metadata": {
    "id": "PVrY_-qlC8-8"
   },
   "outputs": [
    {
     "name": "stdout",
     "output_type": "stream",
     "text": [
      "62 estabelecimentos aplicaram vacinas no Acre nessa base de dados.\n"
     ]
    }
   ],
   "source": [
    "# 5) #Quantos estabelecimentos aplicaram vacina no Acre?\n",
    "\n",
    "df_municipios = df_vAcre['estabelecimento_razaoSocial'].nunique()\n",
    "print(df_municipios,'estabelecimentos aplicaram vacinas no Acre nessa base de dados.')"
   ]
  },
  {
   "cell_type": "markdown",
   "metadata": {
    "id": "LH1LSYvGC8-8"
   },
   "source": [
    "## 4) Vacinação II\n",
    "Gere um *DataFrame* que contenha somente os estabelecimentos que aplicaram vcinas a menores de 18 anos. Nesse *DataFrame* devem conter somente os dados dos estabelecimentos, mais uma coluna sendo a quantidade de vacinas que o estabelecimento aplicou a menores de 18 anos.  \n",
    "  \n",
    "1. crie uma cópia do *DataFrame* original, contendo somente os registros de vacinas realizadas a menores de 18 anos.  \n",
    "2. crie uma lista das colunas desse *DataFrame* com o atributo de *DataFrame* **.columns()**  \n",
    "3. Nesse *DataFrame* faça uma contagem do campo ```vacina_categoria_nome```.\n",
    "3. a partir da lista de colunas, escolha somente aquelas que são referentes ao estabelecimento, faça uma lista com esses valores.  \n",
    "4. usando o método *.loc*, selecione somente essas variáveis  \n",
    "5. Aplique o método **.drop_duplicates** e crie uma lista com uma linha para cada estabelecimento, com os dados do estabelecimento  "
   ]
  },
  {
   "cell_type": "code",
   "execution_count": 426,
   "metadata": {
    "id": "3ojs12vUC8-8"
   },
   "outputs": [],
   "source": [
    "# 1) #crie uma cópia do DataFrame original, contendo somente os registros de vacinas realizadas a menores de 18 anos.\n",
    "\n",
    "df_menor_idade = df_vAcre[df_vAcre[\"paciente_idade\"]<18].copy()"
   ]
  },
  {
   "cell_type": "code",
   "execution_count": 428,
   "metadata": {
    "id": "sLyevPRBC8-8"
   },
   "outputs": [
    {
     "data": {
      "text/plain": [
       "Index(['document_id', 'paciente_id', 'paciente_idade',\n",
       "       'paciente_dataNascimento', 'paciente_enumSexoBiologico',\n",
       "       'paciente_racaCor_codigo', 'paciente_racaCor_valor',\n",
       "       'paciente_endereco_coIbgeMunicipio', 'paciente_endereco_coPais',\n",
       "       'paciente_endereco_nmMunicipio', 'paciente_endereco_nmPais',\n",
       "       'paciente_endereco_uf', 'paciente_endereco_cep',\n",
       "       'paciente_nacionalidade_enumNacionalidade', 'estabelecimento_valor',\n",
       "       'estabelecimento_razaoSocial', 'estalecimento_noFantasia',\n",
       "       'estabelecimento_municipio_codigo', 'estabelecimento_municipio_nome',\n",
       "       'estabelecimento_uf', 'vacina_grupoAtendimento_codigo',\n",
       "       'vacina_grupoAtendimento_nome', 'vacina_categoria_codigo',\n",
       "       'vacina_categoria_nome', 'vacina_lote', 'vacina_fabricante_nome',\n",
       "       'vacina_fabricante_referencia', 'vacina_dataAplicacao',\n",
       "       'vacina_descricao_dose', 'vacina_codigo', 'vacina_nome',\n",
       "       'sistema_origem'],\n",
       "      dtype='object')"
      ]
     },
     "execution_count": 428,
     "metadata": {},
     "output_type": "execute_result"
    }
   ],
   "source": [
    "# 2) #crie uma lista das colunas desse DataFrame com o atributo de DataFrame .columns()\n",
    "\n",
    "df_menor_idade.columns"
   ]
  },
  {
   "cell_type": "code",
   "execution_count": 466,
   "metadata": {
    "id": "lZAW-Dp8C8-8"
   },
   "outputs": [
    {
     "data": {
      "text/plain": [
       "vacina_categoria_nome\n",
       "Faixa Etária                                      47344\n",
       "Povos Indígenas                                    4616\n",
       "Outros                                             3755\n",
       "Povos e Comunidades Tradicionais                    819\n",
       "Trabalhadores de Saúde                              254\n",
       "Comorbidades                                         56\n",
       "População Privada de Liberdade                       53\n",
       "Gestantes                                            42\n",
       "Pessoas com Deficiência                              11\n",
       "Pessoas Institucionalizadas                           3\n",
       "Trabalhadores da Educação                             2\n",
       "Pessoas de 60 anos ou mais institucionalizadas        1\n",
       "Puérperas                                             1\n",
       "Name: count, dtype: int64"
      ]
     },
     "execution_count": 466,
     "metadata": {},
     "output_type": "execute_result"
    }
   ],
   "source": [
    "# 3) #Nesse DataFrame faça uma contagem do campo vacina_categoria_nome.\n",
    "df_menor_idade['vacina_categoria_nome'].value_counts()\n",
    "\n",
    "#Pelo resultado parece que seria necessário fazer uma limpeza de dados antes de prosseguir. Mas seguiremos mesmo assim."
   ]
  },
  {
   "cell_type": "code",
   "execution_count": 485,
   "metadata": {
    "id": "xxYsxrxAC8-8"
   },
   "outputs": [
    {
     "data": {
      "text/html": [
       "<div>\n",
       "<style scoped>\n",
       "    .dataframe tbody tr th:only-of-type {\n",
       "        vertical-align: middle;\n",
       "    }\n",
       "\n",
       "    .dataframe tbody tr th {\n",
       "        vertical-align: top;\n",
       "    }\n",
       "\n",
       "    .dataframe thead th {\n",
       "        text-align: right;\n",
       "    }\n",
       "</style>\n",
       "<table border=\"1\" class=\"dataframe\">\n",
       "  <thead>\n",
       "    <tr style=\"text-align: right;\">\n",
       "      <th></th>\n",
       "      <th>estabelecimento_valor</th>\n",
       "      <th>estabelecimento_razaoSocial</th>\n",
       "      <th>estalecimento_noFantasia</th>\n",
       "      <th>estabelecimento_municipio_codigo</th>\n",
       "      <th>estabelecimento_municipio_nome</th>\n",
       "      <th>estabelecimento_uf</th>\n",
       "    </tr>\n",
       "  </thead>\n",
       "  <tbody>\n",
       "    <tr>\n",
       "      <th>3</th>\n",
       "      <td>6917291</td>\n",
       "      <td>PREFEITURA MUNICIPAL DE RIO BRANCO</td>\n",
       "      <td>DEPARTAMENTO DE VIGILANCIA EPIDEMIOLOGICA E AM...</td>\n",
       "      <td>120040</td>\n",
       "      <td>RIO BRANCO</td>\n",
       "      <td>AC</td>\n",
       "    </tr>\n",
       "    <tr>\n",
       "      <th>11</th>\n",
       "      <td>2000164</td>\n",
       "      <td>PREFEITURA MUNICIPAL DE TARAUACA</td>\n",
       "      <td>UNIDADE DE SAUDE DA FAMILIA MARIA DA LUZ</td>\n",
       "      <td>120060</td>\n",
       "      <td>TARAUACA</td>\n",
       "      <td>AC</td>\n",
       "    </tr>\n",
       "    <tr>\n",
       "      <th>13</th>\n",
       "      <td>7625855</td>\n",
       "      <td>DISTRITO SANITARIO ESPECIAL INDIGENA ALTO RIO ...</td>\n",
       "      <td>POLO BASE DE MARECHAL THAUMATURGO</td>\n",
       "      <td>120035</td>\n",
       "      <td>MARECHAL THAUMATURGO</td>\n",
       "      <td>AC</td>\n",
       "    </tr>\n",
       "    <tr>\n",
       "      <th>19</th>\n",
       "      <td>6917291</td>\n",
       "      <td>PREFEITURA MUNICIPAL DE RIO BRANCO</td>\n",
       "      <td>DEPARTAMENTO DE VIGILANCIA EPIDEMIOLOGICA E AM...</td>\n",
       "      <td>120040</td>\n",
       "      <td>RIO BRANCO</td>\n",
       "      <td>AC</td>\n",
       "    </tr>\n",
       "    <tr>\n",
       "      <th>23</th>\n",
       "      <td>6159087</td>\n",
       "      <td>PREFEITURA MUNICIPAL DE CRUZEIRO DO SUL</td>\n",
       "      <td>SECRETARIA MUNICIPAL DE SAUDE DE CRUZEIRO DO SUL</td>\n",
       "      <td>120020</td>\n",
       "      <td>CRUZEIRO DO SUL</td>\n",
       "      <td>AC</td>\n",
       "    </tr>\n",
       "    <tr>\n",
       "      <th>...</th>\n",
       "      <td>...</td>\n",
       "      <td>...</td>\n",
       "      <td>...</td>\n",
       "      <td>...</td>\n",
       "      <td>...</td>\n",
       "      <td>...</td>\n",
       "    </tr>\n",
       "    <tr>\n",
       "      <th>386797</th>\n",
       "      <td>6917291</td>\n",
       "      <td>PREFEITURA MUNICIPAL DE RIO BRANCO</td>\n",
       "      <td>DEPARTAMENTO DE VIGILANCIA EPIDEMIOLOGICA E AM...</td>\n",
       "      <td>120040</td>\n",
       "      <td>RIO BRANCO</td>\n",
       "      <td>AC</td>\n",
       "    </tr>\n",
       "    <tr>\n",
       "      <th>386799</th>\n",
       "      <td>3810771</td>\n",
       "      <td>PREFEITURA MUNICIPAL DE TARAUACA</td>\n",
       "      <td>UNIDADE DE S DA FAMILIA DR JOSE LEONCIO GOMES ...</td>\n",
       "      <td>120060</td>\n",
       "      <td>TARAUACA</td>\n",
       "      <td>AC</td>\n",
       "    </tr>\n",
       "    <tr>\n",
       "      <th>386800</th>\n",
       "      <td>6917291</td>\n",
       "      <td>PREFEITURA MUNICIPAL DE RIO BRANCO</td>\n",
       "      <td>DEPARTAMENTO DE VIGILANCIA EPIDEMIOLOGICA E AM...</td>\n",
       "      <td>120040</td>\n",
       "      <td>RIO BRANCO</td>\n",
       "      <td>AC</td>\n",
       "    </tr>\n",
       "    <tr>\n",
       "      <th>386802</th>\n",
       "      <td>2002132</td>\n",
       "      <td>PREFEITURA MUN DE MAL THAUMATURGO</td>\n",
       "      <td>ESF RIBEIRINHA DR NALDIR MARIANO</td>\n",
       "      <td>120035</td>\n",
       "      <td>MARECHAL THAUMATURGO</td>\n",
       "      <td>AC</td>\n",
       "    </tr>\n",
       "    <tr>\n",
       "      <th>386810</th>\n",
       "      <td>6917291</td>\n",
       "      <td>PREFEITURA MUNICIPAL DE RIO BRANCO</td>\n",
       "      <td>DEPARTAMENTO DE VIGILANCIA EPIDEMIOLOGICA E AM...</td>\n",
       "      <td>120040</td>\n",
       "      <td>RIO BRANCO</td>\n",
       "      <td>AC</td>\n",
       "    </tr>\n",
       "  </tbody>\n",
       "</table>\n",
       "<p>77019 rows × 6 columns</p>\n",
       "</div>"
      ],
      "text/plain": [
       "        estabelecimento_valor  \\\n",
       "3                     6917291   \n",
       "11                    2000164   \n",
       "13                    7625855   \n",
       "19                    6917291   \n",
       "23                    6159087   \n",
       "...                       ...   \n",
       "386797                6917291   \n",
       "386799                3810771   \n",
       "386800                6917291   \n",
       "386802                2002132   \n",
       "386810                6917291   \n",
       "\n",
       "                              estabelecimento_razaoSocial  \\\n",
       "3                      PREFEITURA MUNICIPAL DE RIO BRANCO   \n",
       "11                       PREFEITURA MUNICIPAL DE TARAUACA   \n",
       "13      DISTRITO SANITARIO ESPECIAL INDIGENA ALTO RIO ...   \n",
       "19                     PREFEITURA MUNICIPAL DE RIO BRANCO   \n",
       "23                PREFEITURA MUNICIPAL DE CRUZEIRO DO SUL   \n",
       "...                                                   ...   \n",
       "386797                 PREFEITURA MUNICIPAL DE RIO BRANCO   \n",
       "386799                   PREFEITURA MUNICIPAL DE TARAUACA   \n",
       "386800                 PREFEITURA MUNICIPAL DE RIO BRANCO   \n",
       "386802                  PREFEITURA MUN DE MAL THAUMATURGO   \n",
       "386810                 PREFEITURA MUNICIPAL DE RIO BRANCO   \n",
       "\n",
       "                                 estalecimento_noFantasia  \\\n",
       "3       DEPARTAMENTO DE VIGILANCIA EPIDEMIOLOGICA E AM...   \n",
       "11               UNIDADE DE SAUDE DA FAMILIA MARIA DA LUZ   \n",
       "13                      POLO BASE DE MARECHAL THAUMATURGO   \n",
       "19      DEPARTAMENTO DE VIGILANCIA EPIDEMIOLOGICA E AM...   \n",
       "23       SECRETARIA MUNICIPAL DE SAUDE DE CRUZEIRO DO SUL   \n",
       "...                                                   ...   \n",
       "386797  DEPARTAMENTO DE VIGILANCIA EPIDEMIOLOGICA E AM...   \n",
       "386799  UNIDADE DE S DA FAMILIA DR JOSE LEONCIO GOMES ...   \n",
       "386800  DEPARTAMENTO DE VIGILANCIA EPIDEMIOLOGICA E AM...   \n",
       "386802                   ESF RIBEIRINHA DR NALDIR MARIANO   \n",
       "386810  DEPARTAMENTO DE VIGILANCIA EPIDEMIOLOGICA E AM...   \n",
       "\n",
       "        estabelecimento_municipio_codigo estabelecimento_municipio_nome  \\\n",
       "3                                 120040                     RIO BRANCO   \n",
       "11                                120060                       TARAUACA   \n",
       "13                                120035           MARECHAL THAUMATURGO   \n",
       "19                                120040                     RIO BRANCO   \n",
       "23                                120020                CRUZEIRO DO SUL   \n",
       "...                                  ...                            ...   \n",
       "386797                            120040                     RIO BRANCO   \n",
       "386799                            120060                       TARAUACA   \n",
       "386800                            120040                     RIO BRANCO   \n",
       "386802                            120035           MARECHAL THAUMATURGO   \n",
       "386810                            120040                     RIO BRANCO   \n",
       "\n",
       "       estabelecimento_uf  \n",
       "3                      AC  \n",
       "11                     AC  \n",
       "13                     AC  \n",
       "19                     AC  \n",
       "23                     AC  \n",
       "...                   ...  \n",
       "386797                 AC  \n",
       "386799                 AC  \n",
       "386800                 AC  \n",
       "386802                 AC  \n",
       "386810                 AC  \n",
       "\n",
       "[77019 rows x 6 columns]"
      ]
     },
     "execution_count": 485,
     "metadata": {},
     "output_type": "execute_result"
    }
   ],
   "source": [
    "# 4) #a partir da lista de colunas, escolha somente aquelas que são referentes ao estabelecimento, faça uma lista com esses valores.\n",
    "\n",
    "lista_estabelecimentos = [\n",
    "    'estabelecimento_valor','estabelecimento_razaoSocial',\n",
    "           'estalecimento_noFantasia','estabelecimento_municipio_codigo',\n",
    "                   'estabelecimento_municipio_nome','estabelecimento_uf'\n",
    "]\n",
    "\n",
    "#detalhe: o nome de uma das colunas é [estalecimento_noFantasia]. Escreveram errado e eu achei sem querer.\n",
    "\n",
    "df_menor_lista = df_menor_idade.loc[:,lista_estabelecimentos]\n",
    "df_menor_lista"
   ]
  },
  {
   "cell_type": "code",
   "execution_count": 504,
   "metadata": {
    "id": "vaX2x_0rC8-8"
   },
   "outputs": [
    {
     "data": {
      "text/plain": [
       "(204, 6)"
      ]
     },
     "execution_count": 504,
     "metadata": {},
     "output_type": "execute_result"
    }
   ],
   "source": [
    "# 5) #Aplique o método .drop_duplicates e crie uma lista com uma linha para cada estabelecimento, com os dados do estabelecimento\n",
    "\n",
    "df_menor_lista.shape\n",
    "#verificando os valores antes de aplicar drop_duplicates: (77019, 6)\n",
    "\n",
    "df_menor_lista = df_menor_lista.drop_duplicates()\n",
    "df_menor_lista.shape"
   ]
  }
 ],
 "metadata": {
  "colab": {
   "provenance": []
  },
  "kernelspec": {
   "display_name": "Python 3 (ipykernel)",
   "language": "python",
   "name": "python3"
  },
  "language_info": {
   "codemirror_mode": {
    "name": "ipython",
    "version": 3
   },
   "file_extension": ".py",
   "mimetype": "text/x-python",
   "name": "python",
   "nbconvert_exporter": "python",
   "pygments_lexer": "ipython3",
   "version": "3.11.7"
  },
  "toc": {
   "base_numbering": 1,
   "nav_menu": {},
   "number_sections": false,
   "sideBar": true,
   "skip_h1_title": true,
   "title_cell": "Índice",
   "title_sidebar": "Conteúdo",
   "toc_cell": false,
   "toc_position": {},
   "toc_section_display": true,
   "toc_window_display": false
  },
  "varInspector": {
   "cols": {
    "lenName": 16,
    "lenType": 16,
    "lenVar": 40
   },
   "kernels_config": {
    "python": {
     "delete_cmd_postfix": "",
     "delete_cmd_prefix": "del ",
     "library": "var_list.py",
     "varRefreshCmd": "print(var_dic_list())"
    },
    "r": {
     "delete_cmd_postfix": ") ",
     "delete_cmd_prefix": "rm(",
     "library": "var_list.r",
     "varRefreshCmd": "cat(var_dic_list()) "
    }
   },
   "types_to_exclude": [
    "module",
    "function",
    "builtin_function_or_method",
    "instance",
    "_Feature"
   ],
   "window_display": false
  }
 },
 "nbformat": 4,
 "nbformat_minor": 4
}
